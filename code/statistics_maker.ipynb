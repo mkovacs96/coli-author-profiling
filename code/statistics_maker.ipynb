{
 "cells": [
  {
   "cell_type": "code",
   "execution_count": 1,
   "id": "82ee525c",
   "metadata": {},
   "outputs": [
    {
     "name": "stdout",
     "output_type": "stream",
     "text": [
      "There are 9 words.\n"
     ]
    }
   ],
   "source": [
    "# initialize string\n",
    "text = 'The quick brown fox jumps over the lazy dog'\n",
    "\n",
    "# default separator: space\n",
    "result = len(text.split())\n",
    "\n",
    "print(\"There are \" + str(result) + \" words.\")\n"
   ]
  },
  {
   "cell_type": "code",
   "execution_count": 2,
   "id": "def358d8",
   "metadata": {},
   "outputs": [],
   "source": [
    "# Importing the dependencies\n",
    "\n",
    "import glob\n",
    "import numpy as np\n",
    "import os\n",
    "import re\n",
    "\n",
    "import os.path\n",
    "import xml.etree.ElementTree as ET\n",
    "\n",
    "from random import shuffle\n",
    "from keras.preprocessing import sequence   # necessary for padding\n",
    "from keras.models import Sequential        # Base Keras NN model\n",
    "from keras.layers import Conv1D, GlobalMaxPooling1D # Convolution layer and pooling\n",
    "from keras.layers import Dense, Dropout, Activation # The objects for each layer\n",
    "from nltk.tokenize import TreebankWordTokenizer\n",
    "from gensim.models.keyedvectors import KeyedVectors\n"
   ]
  },
  {
   "cell_type": "code",
   "execution_count": 3,
   "id": "8cc6e49d",
   "metadata": {},
   "outputs": [],
   "source": [
    "male_corpus = \"C:\\\\Users\\\\morzm\\\\jup_txts\\\\merged_corpus\\\\male\\\\\"\n",
    "female_corpus = \"C:\\\\Users\\\\morzm\\\\jup_txts\\\\merged_corpus\\\\female\\\\\""
   ]
  },
  {
   "cell_type": "code",
   "execution_count": 5,
   "id": "c5c2515d",
   "metadata": {},
   "outputs": [],
   "source": [
    "os.chdir(\"C:\\\\Users\\\\morzm\\\\jup_txts\\\\merged_corpus\\\\female\\\\\")\n",
    "for file in glob.glob(\"*.txt\"):\n",
    "    lines = open(file, 'r', encoding=\"utf-8\")\n",
    "    text = lines.read()\n",
    "    result = len(text.split())\n",
    "    with open (\"female_length.txt\", \"a\", encoding=\"utf-8\") as f:\n",
    "        line_to_write = \"F\" + \":::\" + str(result) + \"\\n\"\n",
    "        f.write(line_to_write)"
   ]
  },
  {
   "cell_type": "code",
   "execution_count": 7,
   "id": "61a37e96",
   "metadata": {},
   "outputs": [],
   "source": [
    "os.chdir(\"C:\\\\Users\\\\morzm\\\\jup_txts\\\\reddit_corpus\\\\male\\\\\")\n",
    "for file in glob.glob(\"*.txt\"):\n",
    "    lines = open(file, 'r', encoding=\"utf-8\")\n",
    "    text = lines.read()\n",
    "    result = len(text.split())\n",
    "    with open (\"male_length.txt\", \"a\", encoding=\"utf-8\") as f:\n",
    "        line_to_write = \"M\" + \":::\" + str(result) + \"\\n\"\n",
    "        f.write(line_to_write)"
   ]
  },
  {
   "cell_type": "code",
   "execution_count": 4,
   "id": "c8ea0747",
   "metadata": {},
   "outputs": [
    {
     "data": {
      "image/png": "[encoded data removed]",
      "text/plain": [
       "<Figure size 432x288 with 2 Axes>"
      ]
     },
     "metadata": {},
     "output_type": "display_data"
    }
   ],
   "source": [
    "import seaborn as sn\n",
    "import pandas as pd\n",
    "import matplotlib.pyplot as plt\n",
    "\n",
    "array = [[164,52],\n",
    "        [29,205]]\n",
    "\n",
    "df_cm = pd.DataFrame(array, range(2), range(2))\n",
    "# plt.figure(figsize=(10,7))\n",
    "x_axis_labels = [\"Male\",\"Female\"] # labels for x-axis\n",
    "y_axis_labels = [\"Male\",\"Female\"] # labels for y-axis\n",
    "sn.set(font_scale=1.4) # for label size\n",
    "s = sn.heatmap(df_cm, annot=True, fmt=\"d\", cmap=\"YlGnBu\", xticklabels=x_axis_labels, yticklabels=y_axis_labels) # font size\n",
    "s.set(xlabel='Actual', ylabel='Predicted')\n",
    "plt.show()"
   ]
  },
  {
   "cell_type": "code",
   "execution_count": null,
   "id": "e0b0db4f",
   "metadata": {},
   "outputs": [],
   "source": []
  }
 ],
 "metadata": {
  "kernelspec": {
   "display_name": "Python 3 (ipykernel)",
   "language": "python",
   "name": "python3"
  },
  "language_info": {
   "codemirror_mode": {
    "name": "ipython",
    "version": 3
   },
   "file_extension": ".py",
   "mimetype": "text/x-python",
   "name": "python",
   "nbconvert_exporter": "python",
   "pygments_lexer": "ipython3",
   "version": "3.10.7"
  }
 },
 "nbformat": 4,
 "nbformat_minor": 5
}
